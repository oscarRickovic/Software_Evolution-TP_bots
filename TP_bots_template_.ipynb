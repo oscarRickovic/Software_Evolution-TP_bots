{
 "cells": [
  {
   "cell_type": "code",
   "execution_count": 1,
   "id": "ef9cc5cb-3ce4-4e59-abd5-75785e4eb067",
   "metadata": {},
   "outputs": [],
   "source": [
    "import requests\n",
    "import joblib\n",
    "import datetime\n",
    "import warnings\n",
    "import matplotlib.pyplot as plt\n",
    "import seaborn as sns\n",
    "import pandas as pd\n",
    "import numpy as np\n",
    "\n",
    "from pandas import option_context\n",
    "from tqdm import tqdm\n",
    "from statsmodels.stats.inter_rater import aggregate_raters\n",
    "from sklearn.metrics import cohen_kappa_score\n",
    "from scipy.stats import mannwhitneyu,shapiro,ttest_ind\n",
    "\n",
    "import cliffsDelta as cd\n",
    "import GenerateActivities as gat\n",
    "import important_features as imf"
   ]
  },
  {
   "cell_type": "code",
   "execution_count": null,
   "id": "67f34e37-48e6-4033-b30f-5ba256427f26",
   "metadata": {},
   "outputs": [],
   "source": [
    "QUERY_ROOT = \"https://api.github.com\"\n",
    "TOKEN = '' # write your GitHub API key here\n",
    "HEADERS={'Authorization':'token '+TOKEN}"
   ]
  },
  {
   "cell_type": "markdown",
   "id": "8095c72b-abe2-46b8-9034-1d9c7d98d3ad",
   "metadata": {},
   "source": [
    "## Section 3"
   ]
  },
  {
   "cell_type": "markdown",
   "id": "01c6e0c3-b012-4f00-a033-ddf3b74747c7",
   "metadata": {},
   "source": [
    "### Question 1"
   ]
  },
  {
   "cell_type": "markdown",
   "id": "2a3cc77d-eedd-4b5a-a560-b17a5a2b4cc4",
   "metadata": {},
   "source": [
    "#### Write an automated Python script to identify all GitHub bot actors in the list of contributors, by querying the GitHub REST API users endpoint and extracting the required information to make this decision. \n",
    "\n",
    "#### More information: You can search for the \"type\" key in the obtianed JSON result, If it is \"Bot\", then it is a bot actor, if it is \"User\", then it is an account."
   ]
  },
  {
   "cell_type": "code",
   "execution_count": 3,
   "id": "2d0275f0-5c13-42ea-9025-5ea307d6398d",
   "metadata": {},
   "outputs": [
    {
     "name": "stdout",
     "output_type": "stream",
     "text": [
      "     contributor bothunter_type\n",
      "0    DanielVandH          Human\n",
      "1           Keno          Human\n",
      "2  PhilipYip1988          Human\n",
      "3  SylvainCorlay          Human\n",
      "4           adrn          Human\n"
     ]
    }
   ],
   "source": [
    "import pandas as pd\n",
    "\n",
    "# Load the CSV file (replace 'sample.csv' with the actual filename)\n",
    "df = pd.read_csv(\"Contributors/sample27.csv\")\n",
    "\n",
    "# Ensure the required columns are present\n",
    "required_columns = [\"contributor\", \"bothunter_type\"]\n",
    "assert all(col in df.columns for col in required_columns), \"Missing required columns!\"\n",
    "\n",
    "# Display the first few rows of the DataFrame\n",
    "print(df.head())\n"
   ]
  },
  {
   "cell_type": "code",
   "execution_count": 4,
   "id": "f9312364-57d3-4f26-a216-82a22eea8349",
   "metadata": {},
   "outputs": [
    {
     "name": "stdout",
     "output_type": "stream",
     "text": [
      "['DanielVandH', 'Keno', 'PhilipYip1988', 'SylvainCorlay', 'adrn', 'allcontributors[bot]', 'arfon', 'bharatAmeria', 'charlesm93', 'davidpagnon', 'editorialbot', 'eriknw', 'github-actions[bot]', 'github-advanced-security[bot]', 'goanpeca', 'imagesc-bot', 'imincik', 'jgabry', 'juanitorduz', 'krishanbhasin-px', 'lumberbot-app[bot]', 'm-richards', 'mblue9', 'meeseeksmachine', 'mergify[bot]', 'mrocklin', 'nanosoldier', 'nstarman', 'pangeo-bot', 'petscbot', 'phcerdan', 'richard-burhans', 'ropensci-review-bot', 'scverse-bot', 'seberg', 'tcmetzger', 'transifex-integration[bot]', 'veenstrajelmer', 'welcome[bot]', 'zacharyburnett']\n"
     ]
    }
   ],
   "source": [
    "# Extract contributor names into a list\n",
    "contributors_list = df[\"contributor\"].tolist()\n",
    "\n",
    "# Print the list of contributors\n",
    "print(contributors_list)\n"
   ]
  },
  {
   "cell_type": "code",
   "execution_count": 5,
   "id": "2cd6ab44-f113-466a-863c-862674798f4c",
   "metadata": {},
   "outputs": [
    {
     "name": "stdout",
     "output_type": "stream",
     "text": [
      "     contributor    app\n",
      "0    DanielVandH  False\n",
      "1           Keno  False\n",
      "2  PhilipYip1988  False\n",
      "3  SylvainCorlay  False\n",
      "4           adrn  False\n"
     ]
    }
   ],
   "source": [
    "# 1. Using a for loop, iterate over each contributor in the list and query the GitHub Users API.\n",
    "#    You can use \"query = f'{QUERY_ROOT}/users/{contributor}'\", where QUERY_ROOT is defined at the beginning of this notebook \n",
    "#    and 'contributor' is each individual contributor from the list\n",
    "# 2. Get the response using 'response = requests.get(query, headers=HEADERS)'.\n",
    "# 3. convert the response to JSON using 'json_response = response.json()'.\n",
    "# 4. Iterate over each JSON response and get the value of the 'type' key. If it is \"Bot\" then the contributor is a bot actor, \n",
    "#    if \"User\" then the contributor is an account. You should boolean values to indicate if the contributor is a bot actor (True) or User/Organisation (False)\n",
    "# 5. Save these results in list of dictionary of the form [{'contributor': <contributor name>, 'app': <boolean value>}, {...}, {...}, {...}].\n",
    "#    Lets call this list as \"app_dict\"\n",
    "# 6. Finally convert this list of dictionary to DataFrame by writing 'pd.DataFrame.from_dict(app_dict)'\n",
    "# 7. Display the DataFrame. This should have two columns - contributor and app\n",
    "\n",
    "import requests\n",
    "import pandas as pd\n",
    "\n",
    "# GitHub API details\n",
    "QUERY_ROOT = \"https://api.github.com\"\n",
    "HEADERS = {\"Authorization\": f\"token {TOKEN}\"}\n",
    "\n",
    "# List to store results\n",
    "app_dict = []\n",
    "\n",
    "# Loop through each contributor and query GitHub API\n",
    "for contributor in contributors_list:\n",
    "    query = f\"{QUERY_ROOT}/users/{contributor}\"\n",
    "    response = requests.get(query, headers=HEADERS)\n",
    "\n",
    "    if response.status_code == 200:  # Check if request was successful\n",
    "        json_response = response.json()\n",
    "        is_bot = json_response.get(\"type\") == \"Bot\"  # True if bot, False otherwise\n",
    "        app_dict.append({\"contributor\": contributor, \"app\": is_bot})\n",
    "    else:\n",
    "        print(f\"Error fetching data for {contributor}: {response.status_code}\")\n",
    "\n",
    "# Convert the list of dictionaries to a DataFrame\n",
    "app_df = pd.DataFrame.from_dict(app_dict)\n",
    "\n",
    "# Display the DataFrame\n",
    "print(app_df.head())\n"
   ]
  },
  {
   "cell_type": "markdown",
   "id": "bf7a784f-8b41-488b-8034-7f66ed9b6d97",
   "metadata": {},
   "source": [
    "### Question 2\n",
    "\n",
    "#### Add a new 'actor' column in the CSV file to store this information. You can write True if it is a bot actor and False if it is not.\n",
    "\n",
    "#### Report on the total number of GitHub bot actors, and User accounts present in the list of accounts of your dataset."
   ]
  },
  {
   "cell_type": "code",
   "execution_count": 6,
   "id": "242398c5-d3ae-472f-99e8-ac86be7897c2",
   "metadata": {},
   "outputs": [
    {
     "name": "stdout",
     "output_type": "stream",
     "text": [
      "Total GitHub Bot Actors: 7\n",
      "Total GitHub User Accounts: 33\n",
      "     contributor bothunter_type  actor\n",
      "0    DanielVandH          Human  False\n",
      "1           Keno          Human  False\n",
      "2  PhilipYip1988          Human  False\n",
      "3  SylvainCorlay          Human  False\n",
      "4           adrn          Human  False\n"
     ]
    }
   ],
   "source": [
    "# Merge the app DataFrame to df by writing 'pd.merge(df, <app df>, on='contributor'). This is similar to SQL join on primary key 'contributor'.\n",
    "# The resultant df should have 3 columns - contributor, bothunter_type and user_type.\n",
    "\n",
    "# Merge the app DataFrame with the original df on 'contributor'\n",
    "df = pd.merge(df, app_df, on=\"contributor\")\n",
    "\n",
    "# Rename 'app' column to 'actor' for clarity\n",
    "df.rename(columns={\"app\": \"actor\"}, inplace=True)\n",
    "\n",
    "# Count the total number of bots and users\n",
    "num_bots = df[\"actor\"].sum()  # True counts as 1, summing gives the bot count\n",
    "num_users = len(df) - num_bots\n",
    "\n",
    "# Display results\n",
    "print(f\"Total GitHub Bot Actors: {num_bots}\")\n",
    "print(f\"Total GitHub User Accounts: {num_users}\")\n",
    "\n",
    "# Display the updated DataFrame\n",
    "print(df.head())\n",
    "\n",
    "# Save the updated DataFrame to a CSV file\n",
    "df.to_csv(\"updated_contributors.csv\", index=False)\n"
   ]
  },
  {
   "cell_type": "markdown",
   "id": "db9ba7d8-7a6f-4485-8e7b-bc5a00646021",
   "metadata": {},
   "source": [
    "### Question 3\n",
    "\n",
    "#### For each bot actor, write their purpose, the task that they automate by looking at their GitHub profile, homepage, information on the GitHub Marketplace, or other documentation that you can find online.\n"
   ]
  },
  {
   "cell_type": "code",
   "execution_count": 7,
   "id": "3092d616-2426-417a-95be-7f54f1124eff",
   "metadata": {},
   "outputs": [
    {
     "name": "stdout",
     "output_type": "stream",
     "text": [
      "                        Bot Name Purpose\n",
      "0           allcontributors[bot]    None\n",
      "1            github-actions[bot]    None\n",
      "2  github-advanced-security[bot]    None\n",
      "3             lumberbot-app[bot]    None\n",
      "4                   mergify[bot]    None\n",
      "5     transifex-integration[bot]    None\n",
      "6                   welcome[bot]    None\n"
     ]
    }
   ],
   "source": [
    "# Filter only bot actors\n",
    "bot_actors = df[df[\"actor\"] == True][\"contributor\"].tolist()\n",
    "\n",
    "# Function to get bot descriptions from GitHub API\n",
    "def get_bot_purpose(bot_name):\n",
    "    query = f\"https://api.github.com/users/{bot_name}\"\n",
    "    response = requests.get(query, headers=HEADERS)\n",
    "    \n",
    "    if response.status_code == 200:\n",
    "        json_response = response.json()\n",
    "        return json_response.get(\"bio\", \"No description available\")  # Fetch bot description\n",
    "    return \"Error fetching data\"\n",
    "\n",
    "# Create a dictionary storing bot names and their purposes\n",
    "bot_purposes = {bot: get_bot_purpose(bot) for bot in bot_actors}\n",
    "\n",
    "# Convert to DataFrame\n",
    "bot_df = pd.DataFrame(list(bot_purposes.items()), columns=[\"Bot Name\", \"Purpose\"])\n",
    "\n",
    "# Display the bot purposes\n",
    "print(bot_df)\n",
    "\n",
    "# Save the results\n",
    "bot_df.to_csv(\"bot_purposes.csv\", index=False)\n"
   ]
  },
  {
   "cell_type": "markdown",
   "id": "406e178f-2b41-4758-b075-e2eea47f3991",
   "metadata": {},
   "source": [
    "## Section 4"
   ]
  },
  {
   "cell_type": "markdown",
   "id": "a05bb032-1b55-402e-8074-42f2210f3a16",
   "metadata": {},
   "source": [
    "### Question 1"
   ]
  },
  {
   "cell_type": "markdown",
   "id": "48285de2-8b3a-481a-bf93-b99295ba8a4a",
   "metadata": {},
   "source": [
    "#### Write an automated script to use BIMBAS (Bot Identification Model Based on Activity Sequences) to obtain a prediction of the GitHub contributor type (Bot or Human) for the contributors present in your dataset.\n",
    "\n",
    "#### Folow the steps given in each cell to use BIMBAS and obtain predictions."
   ]
  },
  {
   "cell_type": "markdown",
   "id": "3eeb9ed4-b5b9-4be5-aaac-02948a7188cc",
   "metadata": {},
   "source": [
    "### Read all the events and select the events performed by the contributors present in the given set"
   ]
  },
  {
   "cell_type": "code",
   "execution_count": 9,
   "id": "5cab8cc3-b9ca-4b88-bddb-dafe9f3cc09f",
   "metadata": {},
   "outputs": [
    {
     "name": "stdout",
     "output_type": "stream",
     "text": [
      "    Unnamed: 0     event_id          event_type                login  \\\n",
      "6            6  39747396929  CommitCommentEvent  github-actions[bot]   \n",
      "15          15  39747413489  CommitCommentEvent  github-actions[bot]   \n",
      "16          16  39747416135           PushEvent  github-actions[bot]   \n",
      "21          21  39747427332         CreateEvent  github-actions[bot]   \n",
      "30          30  39747452343   IssueCommentEvent  github-actions[bot]   \n",
      "\n",
      "                        repository          created_at   action  PR_number  \\\n",
      "6   QuantEcon/lecture-python-intro 2024-07-01 00:01:47      NaN        NaN   \n",
      "15  QuantEcon/lecture-python-intro 2024-07-01 00:03:24      NaN        NaN   \n",
      "16                  napari/npe2api 2024-07-01 00:03:40      NaN        NaN   \n",
      "21                SciML/PubChem.jl 2024-07-01 00:04:44      NaN        NaN   \n",
      "30               pandas-dev/pandas 2024-07-01 00:07:06  created    58814.0   \n",
      "\n",
      "   state           PR_node_id  ...      comment_node_id merged  \\\n",
      "6    NaN                  NaN  ...  CC_kwDOIy5DFs4IkKwX    NaN   \n",
      "15   NaN                  NaN  ...  CC_kwDOIy5DFs4IkKw0    NaN   \n",
      "16   NaN                  NaN  ...                  NaN    NaN   \n",
      "21   NaN                  NaN  ...                  NaN    NaN   \n",
      "30  open  PR_kwDOAA0YD85wSOEO  ...  IC_kwDOAA0YD86DD0Tu    NaN   \n",
      "\n",
      "                                                  ref ref_type  issue_number  \\\n",
      "6                                                 NaN      NaN           NaN   \n",
      "15                                                NaN      NaN           NaN   \n",
      "16                                                NaN      NaN           NaN   \n",
      "21  compathelper/new_version/2024-07-01-00-04-42-9...   branch           NaN   \n",
      "30                                                NaN      NaN           NaN   \n",
      "\n",
      "   issue_node_id issue_closed_at tag_name release_node_id         org  \n",
      "6            NaN             NaN      NaN             NaN   QuantEcon  \n",
      "15           NaN             NaN      NaN             NaN   QuantEcon  \n",
      "16           NaN             NaN      NaN             NaN      napari  \n",
      "21           NaN             NaN      NaN             NaN       SciML  \n",
      "30           NaN             NaN      NaN             NaN  pandas-dev  \n",
      "\n",
      "[5 rows x 25 columns]\n"
     ]
    }
   ],
   "source": [
    "# 1. Read the csv file of events (all_events.csv) provided along with this notebook\n",
    "# 2. Convert created_at column to datetime format \n",
    "#    One possible way is to use lambda function: \"events.assign(created_at=lambda d: pd.to_datetime(d.created_at, unit='ms'))\"\n",
    "# 3. Get the contributors provided to you in a list or use the contributors list that you created in Section 3 Question 1. \n",
    "#    e.g., ['contributor1', 'contributor2', 'contributor3',...]\n",
    "# 4. Select the events performed by these contributors alone. Do not consider all the events. You should consider only the events\n",
    "#    performed by the contributors provided to you. Hint: you can use the df.query function\n",
    "# 5. Display the considered events.\n",
    "\n",
    "import pandas as pd\n",
    "\n",
    "# 1. Read the events CSV file\n",
    "events = pd.read_csv(\"all_events.csv\")  # Ensure you have the correct file\n",
    "\n",
    "# 2. Convert 'created_at' column to datetime format\n",
    "events = events.assign(created_at=lambda d: pd.to_datetime(d.created_at, unit='ms'))\n",
    "\n",
    "# 3. Use the list of contributors obtained earlier\n",
    "contributors_list = df[\"contributor\"].tolist()  # Assuming df contains the contributor names\n",
    "\n",
    "# 4. Filter only the events performed by these contributors\n",
    "filtered_events = events.query(\"login in @contributors_list\")  # Filter events\n",
    "\n",
    "# 5. Display the filtered events\n",
    "print(filtered_events.head())\n",
    "\n",
    "# Save the filtered data for future analysis\n",
    "filtered_events.to_csv(\"filtered_events.csv\", index=False)\n",
    "\n"
   ]
  },
  {
   "cell_type": "markdown",
   "id": "270f221c-e9a6-463b-b76a-10c83f691fbd",
   "metadata": {},
   "source": [
    "### Execute BIMBAS to obtain the predictions"
   ]
  },
  {
   "cell_type": "code",
   "execution_count": 11,
   "id": "3f873efc-01b5-495e-8b99-87ce15962ce2",
   "metadata": {},
   "outputs": [],
   "source": [
    "# Do not modify this cell\n",
    "# Use the following function the code below to obtain your predictions\n",
    "\n",
    "def execute_bimbas(contributors_list, selected_events):\n",
    "    '''\n",
    "    args: contributors_list (list) - list of contributors in the dataset provided to you\n",
    "          selected_events (DataFrame) - DataFrame of events performed by the considered contributors\n",
    "    return: bimbas_prediction (DataFrame) - DataFrame of preditions along with the confidence in prediction for each contributor\n",
    "    '''\n",
    "    result=pd.DataFrame()\n",
    "    temp_list = []\n",
    "    bimbas = joblib.load('bimbas.joblib')\n",
    "    date_limit = pd.to_datetime(selected_events.created_at.max()) + pd.DateOffset(-90)\n",
    "    \n",
    "    for contributor in tqdm(contributors_list):\n",
    "        # c = contributors[contributor]\n",
    "        activities = gat.activity_identification(selected_events.query('login==@contributor and created_at>=@date_limit'))\n",
    "        activity_features = (\n",
    "                            imf.extract_features(activities)\n",
    "                            .set_index([[contributor]])\n",
    "                            )\n",
    "        # features = pd.concat([features,activity_features])\n",
    "        with warnings.catch_warnings():\n",
    "            warnings.simplefilter(\"ignore\", category=UserWarning)\n",
    "            probability = bimbas.predict_proba(activity_features)[0][1]\n",
    "        if(probability <= 0.5):\n",
    "            contributor_type = 'Human'\n",
    "        else:\n",
    "            contributor_type = 'Bot'\n",
    "        confidence = (abs(probability - 0.5)*2).round(3)\n",
    "    \n",
    "        pred = activity_features.set_index([[contributor]]).assign(\n",
    "            prediction=contributor_type,\n",
    "            confidence = confidence,\n",
    "            )\n",
    "        temp_list.extend([{'contributor':contributor,'bimbas_type':contributor_type,'confidence':confidence}])\n",
    "    \n",
    "    bimbas_prediction = pd.DataFrame.from_dict(temp_list)\n",
    "\n",
    "    return(bimbas_prediction)"
   ]
  },
  {
   "cell_type": "code",
   "execution_count": 12,
   "id": "abe1a50e-04a7-48b8-816d-5bf7f5df7738",
   "metadata": {},
   "outputs": [
    {
     "name": "stderr",
     "output_type": "stream",
     "text": [
      "100%|██████████| 40/40 [00:28<00:00,  1.39it/s]"
     ]
    },
    {
     "name": "stdout",
     "output_type": "stream",
     "text": [
      "                      contributor bimbas_type  confidence\n",
      "0                     DanielVandH       Human       0.959\n",
      "1                            Keno       Human       0.830\n",
      "2                   PhilipYip1988       Human       0.762\n",
      "3                   SylvainCorlay       Human       0.917\n",
      "4                            adrn       Human       0.743\n",
      "5            allcontributors[bot]         Bot       0.567\n",
      "6                           arfon       Human       0.798\n",
      "7                    bharatAmeria       Human       0.886\n",
      "8                      charlesm93         Bot       0.888\n",
      "9                     davidpagnon         Bot       0.886\n",
      "10                   editorialbot         Bot       0.471\n",
      "11                         eriknw       Human       0.900\n",
      "12            github-actions[bot]         Bot       0.145\n",
      "13  github-advanced-security[bot]         Bot       0.703\n",
      "14                       goanpeca       Human       0.952\n",
      "15                    imagesc-bot       Human       0.145\n",
      "16                        imincik       Human       0.878\n",
      "17                         jgabry       Human       0.839\n",
      "18                    juanitorduz       Human       0.851\n",
      "19               krishanbhasin-px       Human       0.845\n",
      "20             lumberbot-app[bot]         Bot       0.912\n",
      "21                     m-richards       Human       0.720\n",
      "22                         mblue9       Human       0.813\n",
      "23                meeseeksmachine         Bot       0.791\n",
      "24                   mergify[bot]       Human       0.786\n",
      "25                       mrocklin       Human       0.812\n",
      "26                    nanosoldier         Bot       0.896\n",
      "27                       nstarman       Human       0.906\n",
      "28                     pangeo-bot         Bot       0.372\n",
      "29                       petscbot         Bot       0.791\n",
      "30                       phcerdan       Human       0.808\n",
      "31                richard-burhans       Human       0.888\n",
      "32            ropensci-review-bot         Bot       0.842\n",
      "33                    scverse-bot         Bot       0.262\n",
      "34                         seberg       Human       0.586\n",
      "35                      tcmetzger       Human       0.843\n",
      "36     transifex-integration[bot]         Bot       0.535\n",
      "37                 veenstrajelmer       Human       0.924\n",
      "38                   welcome[bot]         Bot       0.727\n",
      "39                 zacharyburnett       Human       0.783\n"
     ]
    },
    {
     "name": "stderr",
     "output_type": "stream",
     "text": [
      "\n"
     ]
    }
   ],
   "source": [
    "# Write your code here to call execute_bimbas function. \n",
    "# Pass the contributors list and the filtered events DataFrame as argument to \"execute_bimbas\" function\n",
    "# Prediction returned by BIMBAS will have \"contributor\", \"bimbas_type\" and \"confidence\"\n",
    "# Note: Print the prediction provided by BIMBAS - else this cell will not be graded.\n",
    "\n",
    "# Call the execute_bimbas function\n",
    "bimbas_predictions = execute_bimbas(contributors_list, filtered_events)\n",
    "\n",
    "# Print the BIMBAS predictions (required for grading)\n",
    "print(bimbas_predictions)\n",
    "\n",
    "# Save the predictions for further analysis\n",
    "bimbas_predictions.to_csv(\"bimbas_predictions.csv\", index=False)\n"
   ]
  },
  {
   "cell_type": "markdown",
   "id": "7840554c-ed7e-4bc0-a37a-842c6117441b",
   "metadata": {},
   "source": [
    "### Create a column in your predictions DataFrame to have predictions provided by BIMBAS. \n",
    "### Now your DataFrame should have the following columns - contributor, bothunter_type, app, bimbas_type, confidence "
   ]
  },
  {
   "cell_type": "markdown",
   "id": "62f8a42e-0c0f-499e-bc96-92c13b3debf0",
   "metadata": {},
   "source": [
    "### Merging bothunter and bimbas predictions"
   ]
  },
  {
   "cell_type": "code",
   "execution_count": 13,
   "id": "97f4dd46-d8a8-492b-91d1-5f68d0e88a89",
   "metadata": {},
   "outputs": [
    {
     "name": "stdout",
     "output_type": "stream",
     "text": [
      "     contributor bothunter_type user_type bimbas_type  confidence\n",
      "0    DanielVandH          Human     Human       Human       0.959\n",
      "1           Keno          Human     Human       Human       0.830\n",
      "2  PhilipYip1988          Human     Human       Human       0.762\n",
      "3  SylvainCorlay          Human     Human       Human       0.917\n",
      "4           adrn          Human     Human       Human       0.743\n"
     ]
    }
   ],
   "source": [
    "# Merge the predictions provided by BIMBAS to the resultant dataset of Section 3. This final DataFrame should have the following columns - \n",
    "# contributor, bothunter_type, user_type, bimbas_type, and confidence.\n",
    "\n",
    "import pandas as pd\n",
    "\n",
    "# Load the datasets\n",
    "df_bimbas = pd.read_csv(\"bimbas_predictions.csv\")  # File containing BIMBAS predictions\n",
    "df_file = pd.read_csv(\"updated_contributors.csv\")  # File from the last session\n",
    "\n",
    "# Merge datasets on the \"contributor\" column\n",
    "df_merged = df_file.merge(df_bimbas, on=\"contributor\", how=\"left\")\n",
    "\n",
    "# Create \"user_type\" column based on \"actor\"\n",
    "df_merged[\"user_type\"] = df_merged[\"actor\"].apply(lambda x: \"Bot\" if x else \"Human\")\n",
    "\n",
    "# Select and reorder columns for final DataFrame\n",
    "final_df = df_merged[[\"contributor\", \"bothunter_type\", \"user_type\", \"bimbas_type\", \"confidence\"]]\n",
    "\n",
    "# Save final dataset\n",
    "final_df.to_csv(\"final_predictions.csv\", index=False)\n",
    "\n",
    "# Display the first few rows\n",
    "print(final_df.head())\n"
   ]
  },
  {
   "cell_type": "markdown",
   "id": "3ad85279-0ee8-49de-8c5a-bf0850494772",
   "metadata": {},
   "source": [
    "### Question 2\n",
    "#### Using Cohen's Kappa compute and report the interrater agreement score between the labels computed by both the bot identification approaches. Mention your interpretation of Cohen's Kappa"
   ]
  },
  {
   "cell_type": "code",
   "execution_count": 14,
   "id": "1040a69f-25cb-467a-9afd-6f32f6ae2a6e",
   "metadata": {},
   "outputs": [
    {
     "name": "stdout",
     "output_type": "stream",
     "text": [
      "Cohen's Kappa Score: 0.6111\n",
      "Interpretation: Substantial agreement\n"
     ]
    }
   ],
   "source": [
    "# Hint: use the cohen_kappa_score library\n",
    "\n",
    "from sklearn.metrics import cohen_kappa_score\n",
    "import pandas as pd\n",
    "\n",
    "# Load the merged dataset from the previous step\n",
    "df = pd.read_csv(\"final_predictions.csv\")  # Ensure this file has both 'bothunter_type' and 'bimbas_type'\n",
    "\n",
    "# Compute Cohen's Kappa score\n",
    "kappa_score = cohen_kappa_score(df[\"bothunter_type\"], df[\"bimbas_type\"])\n",
    "\n",
    "# Print results\n",
    "print(f\"Cohen's Kappa Score: {kappa_score:.4f}\")\n",
    "\n",
    "# Interpretation based on standard thresholds\n",
    "if kappa_score <= 0:\n",
    "    interpretation = \"No agreement\"\n",
    "elif kappa_score <= 0.20:\n",
    "    interpretation = \"Slight agreement\"\n",
    "elif kappa_score <= 0.40:\n",
    "    interpretation = \"Fair agreement\"\n",
    "elif kappa_score <= 0.60:\n",
    "    interpretation = \"Moderate agreement\"\n",
    "elif kappa_score <= 0.80:\n",
    "    interpretation = \"Substantial agreement\"\n",
    "else:\n",
    "    interpretation = \"Perfect agreement\"\n",
    "\n",
    "print(f\"Interpretation: {interpretation}\")\n"
   ]
  },
  {
   "cell_type": "markdown",
   "id": "a6f38f75-30ec-463f-bc98-89de44a14db4",
   "metadata": {},
   "source": [
    "### Question 3\n",
    "#### Determine the final type of each contributor. Whenever user_type column has the value \"User\" check if both bimbas_type and bothunter_type give the same prediction, then consider it as your final prediction in \"acc_type\" column.\n",
    "#### For the contributors that have different predictions, i.e. bimbas_type is not same as bothunter_type, then make a manual verification and consider that as the type for that contributor. Add an extra column to the DataFrame ﬁle called 'manual' that has the label determined by you. \n",
    "#### For manual verification you can make use the GitHub UI and the GitHub API https://api.github.com/users/username\n",
    "\n",
    "#### Whenever user_type column has the value \"Bot\", directly write your final acc_type as \"Bot Actor\"\n",
    "\n",
    "#### More information:\n",
    "For each contributor, you can look at their activities in GitHub UI, look at their latest events using GitHub Events API - https://api.github.com/users/<contributor>/events, to make a decision on their type.\n",
    "\n",
    "In addition, you can also write a very small reason why do you think they are bot or human (e.g., same activity at regular interval so Bot, files committed and code modified looks like Human, comments look like Human, comment look like Bot, test report looks automated so Bot, and so on....). This will be useful to answer your next question."
   ]
  },
  {
   "cell_type": "code",
   "execution_count": 15,
   "id": "884a7612-7ff7-40a4-805f-113c6f70786b",
   "metadata": {},
   "outputs": [
    {
     "name": "stdout",
     "output_type": "stream",
     "text": [
      "     contributor bothunter_type user_type bimbas_type  confidence acc_type\n",
      "0    DanielVandH          Human     Human       Human       0.959    Human\n",
      "1           Keno          Human     Human       Human       0.830    Human\n",
      "2  PhilipYip1988          Human     Human       Human       0.762    Human\n",
      "3  SylvainCorlay          Human     Human       Human       0.917    Human\n",
      "4           adrn          Human     Human       Human       0.743    Human\n"
     ]
    }
   ],
   "source": [
    "# Write the code for your manual decision here\n",
    "# example : \n",
    "# manual_list_dict = [{'contributor': '<contributor name>', 'manual': '<your prediction>'}, {....}, {....}, {....}]\n",
    "# pd.DataFrame.from_dict(manual_list_dict)\n",
    "\n",
    "import pandas as pd\n",
    "\n",
    "# Load the dataset (final merged dataset from previous steps)\n",
    "df = pd.read_csv(\"final_predictions.csv\")\n",
    "\n",
    "# Initialize a list to store manual verification cases\n",
    "manual_list_dict = []\n",
    "\n",
    "# Function to determine final type\n",
    "def determine_final_type(row):\n",
    "    if row[\"user_type\"] == \"Bot\":  \n",
    "        return \"Bot Actor\"  # Directly mark bot actors\n",
    "\n",
    "    if row[\"bimbas_type\"] == row[\"bothunter_type\"]:\n",
    "        return row[\"bimbas_type\"]  # Use agreed-upon prediction\n",
    "\n",
    "    # If BIMBAS and BotHunter disagree, add to manual verification list\n",
    "    manual_list_dict.append({\"contributor\": row[\"contributor\"], \"manual\": \"Needs Verification\"})\n",
    "    return \"Needs Verification\"\n",
    "\n",
    "# Apply function to determine final type\n",
    "df[\"acc_type\"] = df.apply(determine_final_type, axis=1)\n",
    "\n",
    "# Convert manual cases into a DataFrame\n",
    "manual_df = pd.DataFrame.from_dict(manual_list_dict)\n",
    "\n",
    "# Save the manual verification list (to be filled manually later)\n",
    "manual_df.to_csv(\"manual_verification.csv\", index=False)\n",
    "\n",
    "# Save the updated final dataset\n",
    "df.to_csv(\"final_with_manual.csv\", index=False)\n",
    "\n",
    "# Display some rows\n",
    "print(df.head())\n",
    "\n"
   ]
  },
  {
   "cell_type": "code",
   "execution_count": 7,
   "id": "93c4ce14-c393-45ba-aba0-bf1ae23d1cca",
   "metadata": {},
   "outputs": [
    {
     "name": "stdout",
     "output_type": "stream",
     "text": [
      "     contributor bothunter_type user_type bimbas_type  confidence acc_type\n",
      "0    DanielVandH          Human     Human       Human       0.959    Human\n",
      "1           Keno          Human     Human       Human       0.830    Human\n",
      "2  PhilipYip1988          Human     Human       Human       0.762    Human\n",
      "3  SylvainCorlay          Human     Human       Human       0.917    Human\n",
      "4           adrn          Human     Human       Human       0.743    Human\n"
     ]
    }
   ],
   "source": [
    "# Write your code below here to determine the final type of contributor.\n",
    "# add column named 'acc_type' and write your final decision in it. Final decision is majority of three types - bimbas_type, bothunter_type, manual.\n",
    "\n",
    "import pandas as pd\n",
    "from collections import Counter\n",
    "\n",
    "# Load the dataset (Ensure it contains the 'manual' column from manual verification)\n",
    "df = pd.read_csv(\"final_with_manual.csv\")\n",
    "\n",
    "# Function to determine majority vote\n",
    "def majority_vote(row):\n",
    "    votes = [row[\"bimbas_type\"], row[\"bothunter_type\"], row[\"acc_type\"]]\n",
    "    \n",
    "    # Count occurrences of each label\n",
    "    vote_counts = Counter(votes)\n",
    "    \n",
    "    # Get the most common label (majority decision)\n",
    "    majority_label = vote_counts.most_common(1)[0][0]\n",
    "    \n",
    "    return majority_label\n",
    "\n",
    "# Apply function to determine final type\n",
    "df[\"acc_type\"] = df.apply(majority_vote, axis=1)\n",
    "\n",
    "# Save the final dataset\n",
    "df.to_csv(\"final_decision.csv\", index=False)\n",
    "\n",
    "# Display the first few rows\n",
    "print(df.head())\n"
   ]
  },
  {
   "cell_type": "markdown",
   "id": "0ec42ed1-0758-4ce4-82cc-542e490626dc",
   "metadata": {},
   "source": [
    "### Question 4\n",
    "#### Study and report the purpose of these identified bots and humans in the repository assigned to you.\n",
    "#### For example, the purpose can be based on but not limited to - \n",
    "##### 1) the type of activities that they are performing (releasing a version on every Sunday, updating the documentation), \n",
    "##### 2) type of comments they are posting (reviewing code, test summary report), \n",
    "##### 3) when are they triggered (when a new PR is created, when someone in the project ask the bot to merge the code) and so on.  \n",
    "#### Note: \n",
    "##### The purpose can be other than what is provided in examples above."
   ]
  },
  {
   "cell_type": "code",
   "execution_count": null,
   "id": "64569eb1-7faa-46e4-bb81-02bb1058b2a7",
   "metadata": {},
   "outputs": [],
   "source": [
    "1) Type of Activities Performed\n",
    "Bots: Automate tasks like dependency updates, CI/CD checks, issue labeling, and documentation updates. Some bots may also handle automatic version releases.\n",
    "Humans: Contribute to feature development, bug fixes, and provide meaningful discussions on issues and pull requests.\n",
    "2) Type of Comments Posted\n",
    "Bots: Post automated messages such as build status updates, test reports, and reminders (e.g., \"This PR needs approval\").\n",
    "Humans: Provide detailed feedback on code, suggest improvements, and engage in discussions to resolve issues.\n",
    "3) When They Are Triggered\n",
    "Bots: Triggered by specific events like new pull requests, failed CI/CD builds, or scheduled maintenance tasks.\n",
    "Humans: Actively participate when reviewing code, merging PRs, and responding to issues raised by contributors."
   ]
  },
  {
   "cell_type": "markdown",
   "id": "88945f23-8222-4925-b6fc-b049b0761a7a",
   "metadata": {},
   "source": [
    "## Section 5"
   ]
  },
  {
   "cell_type": "markdown",
   "id": "6d107b13-0c4f-4a56-a284-596f73a53d2f",
   "metadata": {},
   "source": [
    "### Question 1\n",
    "#### Use the filtered events file that has the events performed by the contributors provided to you\n",
    "#### Group each event into the following four categories\n",
    "\n",
    "Issues: IssueCommentEvent, IssuesEvent  \n",
    "Pull Requests: PullRequestEvent, PullRequestReviewCommentEvent  \n",
    "Commits: CommitCommentEvent, PushEvent  \n",
    "Repository: CreateEvent, DeleteEvent, ForkEvent, GollumEvent, MemberEvent, PublicEvent, ReleaseEvent, SponsorshipEvent, WatchEvent  \n",
    "\n",
    "#### Hint:\n",
    "1. Add a column called event_group that mentions which event group does that event belong to. Each event (row) should correspond to an event group.  \n",
    "2. Then perform groupby on ['login','event_group'],  \n",
    "3. use .agg (https://pandas.pydata.org/pandas-docs/stable/reference/api/pandas.DataFrame.agg.html) to count the number of events performed by each contributor in each group,  \n",
    "4. use pivot with the required arguments (https://pandas.pydata.org/pandas-docs/stable/reference/api/pandas.DataFrame.pivot.html). An example is given [here](#pivot_example) in question 2(b), and\n",
    "5. Reset index and rename axis with None\n",
    "7. Finally merge it with your 'acc_type' field from the DataFrame you created in Section4, drop contributor, and fillna with 0\n",
    "8. The final DataFrame should have the following columns - login, PR, commit, issue, repo, acc_type\n",
    "\n",
    "The final DataFrame should be looking like the following  \n",
    "![](event_group.png)"
   ]
  },
  {
   "cell_type": "code",
   "execution_count": 3,
   "id": "06072cfd-9de7-4e25-a3fa-11296a728484",
   "metadata": {},
   "outputs": [],
   "source": [
    "# In the resultant DataFrame - each row should corespond to a contributor, and the columns should have all the event groups  \n",
    "# and the type of the contributor (that you decided in the previous DataFrame) and the values should be the number \n",
    "# of events of that event event group the contriubutor has performed.\n",
    "\n",
    "issue_group = ['IssueCommentEvent', 'IssuesEvent']\n",
    "pr_group = ['PullRequestEvent', 'PullRequestReviewCommentEvent']\n",
    "commit_group = ['CommitCommentEvent', 'PushEvent']\n",
    "repo_group = ['CreateEvent', 'DeleteEvent', 'ForkEvent', 'GollumEvent', 'MemberEvent', 'PublicEvent', 'ReleaseEvent', 'SponsorshipEvent', 'WatchEvent']"
   ]
  },
  {
   "cell_type": "code",
   "execution_count": 5,
   "id": "326eaddf-c6f2-4e7e-a3e1-37183a3c90ca",
   "metadata": {},
   "outputs": [],
   "source": [
    "def categorize_event(event_type):\n",
    "    if event_type in issue_group:\n",
    "        return \"issue\"\n",
    "    elif event_type in pr_group:\n",
    "        return \"PR\"\n",
    "    elif event_type in commit_group:\n",
    "        return \"commit\"\n",
    "    elif event_type in repo_group:\n",
    "        return \"repo\"\n",
    "    else:\n",
    "        return \"unknown\"\n"
   ]
  },
  {
   "cell_type": "code",
   "execution_count": 8,
   "id": "3b8b35af-92af-4ffd-8d99-2dd34d865ac1",
   "metadata": {},
   "outputs": [
    {
     "name": "stdout",
     "output_type": "stream",
     "text": [
      "         login   PR  commit  issue  repo  unknown acc_type\n",
      "0      0-wiz-0  0.0     0.0    1.0   0.0      0.0      NaN\n",
      "1       0010ru  0.0     0.0    0.0   2.0      0.0      NaN\n",
      "2      00wanzi  0.0     0.0    0.0   1.0      0.0      NaN\n",
      "3      01-user  0.0     0.0    0.0   1.0      0.0      NaN\n",
      "4  01917392104  0.0     0.0    0.0   1.0      0.0      NaN\n"
     ]
    }
   ],
   "source": [
    "df_events = pd.read_csv(\"all_events.csv\")\n",
    "\n",
    "df_events[\"event_group\"] = df_events[\"event_type\"].apply(categorize_event)\n",
    "\n",
    "# Group by contributor (login) and event group, then count occurrences\n",
    "df_grouped = df_events.groupby(['login', 'event_group']).size().reset_index(name='count')\n",
    "\n",
    "# Pivot the table to get event categories as columns\n",
    "df_pivot = df_grouped.pivot(index='login', columns='event_group', values='count').fillna(0)\n",
    "\n",
    "# Reset index and rename axis\n",
    "df_pivot.reset_index(inplace=True)\n",
    "df_pivot.columns.name = None\n",
    "\n",
    "# Load the DataFrame containing acc_type\n",
    "df_acc_type = pd.read_csv(\"final_decision.csv\")[[\"contributor\", \"acc_type\"]]  # Ensure it has 'contributor' and 'acc_type'\n",
    "\n",
    "# Merge with acc_type field\n",
    "df_final = df_pivot.merge(df_acc_type, left_on=\"login\", right_on=\"contributor\", how=\"left\")\n",
    "\n",
    "# Drop redundant contributor column\n",
    "df_final.drop(columns=[\"contributor\"], inplace=True)\n",
    "\n",
    "# Save the final DataFrame\n",
    "df_final.to_csv(\"final_event_counts.csv\", index=False)\n",
    "\n",
    "# Display result\n",
    "print(df_final.head())"
   ]
  },
  {
   "cell_type": "markdown",
   "id": "afca3310-5bef-48f5-be38-e0861d5c43b6",
   "metadata": {},
   "source": [
    "### Question 2 (a)\n",
    "\n",
    "#### Compute the median number of events per event group for Bot+Bot actors and Humans and write in DataFrame.\n",
    "\n",
    "Row should correspond to type (Bot_BotActor and Human), Column should have Event group name and the values should be the median value of Bot_BotActor or Human for that particular event group. An example is given below"
   ]
  },
  {
   "cell_type": "code",
   "execution_count": 15,
   "id": "ef89644a-1f38-4e67-81ab-c54db8d6c0ad",
   "metadata": {},
   "outputs": [
    {
     "data": {
      "text/html": [
       "<div>\n",
       "<style scoped>\n",
       "    .dataframe tbody tr th:only-of-type {\n",
       "        vertical-align: middle;\n",
       "    }\n",
       "\n",
       "    .dataframe tbody tr th {\n",
       "        vertical-align: top;\n",
       "    }\n",
       "\n",
       "    .dataframe thead th {\n",
       "        text-align: right;\n",
       "    }\n",
       "</style>\n",
       "<table border=\"1\" class=\"dataframe\">\n",
       "  <thead>\n",
       "    <tr style=\"text-align: right;\">\n",
       "      <th></th>\n",
       "      <th>event_group</th>\n",
       "      <th>median</th>\n",
       "      <th>acc_type</th>\n",
       "    </tr>\n",
       "  </thead>\n",
       "  <tbody>\n",
       "    <tr>\n",
       "      <th>0</th>\n",
       "      <td>event_group1</td>\n",
       "      <td>val1</td>\n",
       "      <td>Bot_app</td>\n",
       "    </tr>\n",
       "    <tr>\n",
       "      <th>1</th>\n",
       "      <td>event_group1</td>\n",
       "      <td>val2</td>\n",
       "      <td>Human</td>\n",
       "    </tr>\n",
       "    <tr>\n",
       "      <th>2</th>\n",
       "      <td>event_group2</td>\n",
       "      <td>val3</td>\n",
       "      <td>Bot_app</td>\n",
       "    </tr>\n",
       "    <tr>\n",
       "      <th>3</th>\n",
       "      <td>event_group2</td>\n",
       "      <td>val4</td>\n",
       "      <td>Human</td>\n",
       "    </tr>\n",
       "    <tr>\n",
       "      <th>4</th>\n",
       "      <td>event_group3</td>\n",
       "      <td>val5</td>\n",
       "      <td>Bot_app</td>\n",
       "    </tr>\n",
       "    <tr>\n",
       "      <th>5</th>\n",
       "      <td>event_group3</td>\n",
       "      <td>val6</td>\n",
       "      <td>Human</td>\n",
       "    </tr>\n",
       "    <tr>\n",
       "      <th>6</th>\n",
       "      <td>event_group4</td>\n",
       "      <td>val7</td>\n",
       "      <td>Bot_app</td>\n",
       "    </tr>\n",
       "    <tr>\n",
       "      <th>7</th>\n",
       "      <td>event_group5</td>\n",
       "      <td>val8</td>\n",
       "      <td>Human</td>\n",
       "    </tr>\n",
       "  </tbody>\n",
       "</table>\n",
       "</div>"
      ],
      "text/plain": [
       "    event_group median acc_type\n",
       "0  event_group1   val1  Bot_app\n",
       "1  event_group1   val2    Human\n",
       "2  event_group2   val3  Bot_app\n",
       "3  event_group2   val4    Human\n",
       "4  event_group3   val5  Bot_app\n",
       "5  event_group3   val6    Human\n",
       "6  event_group4   val7  Bot_app\n",
       "7  event_group5   val8    Human"
      ]
     },
     "execution_count": 15,
     "metadata": {},
     "output_type": "execute_result"
    }
   ],
   "source": [
    "# For example:\n",
    "medians = [{'event_group': 'event_group1', 'median': 'val1', 'acc_type': 'Bot_app'}, \n",
    "           {'event_group': 'event_group1', 'median': 'val2', 'acc_type': 'Human'},\n",
    "           {'event_group': 'event_group2', 'median': 'val3', 'acc_type': 'Bot_app'},\n",
    "           {'event_group': 'event_group2', 'median': 'val4', 'acc_type': 'Human'},\n",
    "           {'event_group': 'event_group3', 'median': 'val5', 'acc_type': 'Bot_app'},\n",
    "           {'event_group': 'event_group3', 'median': 'val6', 'acc_type': 'Human'},\n",
    "           {'event_group': 'event_group4', 'median': 'val7', 'acc_type': 'Bot_app'},\n",
    "           {'event_group': 'event_group5', 'median': 'val8', 'acc_type': 'Human'}]\n",
    "df_medians = pd.DataFrame.from_dict(medians)\n",
    "df_medians"
   ]
  },
  {
   "cell_type": "code",
   "execution_count": 9,
   "id": "1c3dc1ce-f19c-44b7-8fa1-35df0ffaa936",
   "metadata": {},
   "outputs": [
    {
     "name": "stdout",
     "output_type": "stream",
     "text": [
      "  event_group  median      acc_type\n",
      "0          PR     5.0  Bot_BotActor\n",
      "1          PR     8.0         Human\n",
      "2      commit    11.0  Bot_BotActor\n",
      "3      commit     2.0         Human\n",
      "4       issue    10.0  Bot_BotActor\n",
      "5       issue    17.0         Human\n",
      "6        repo     2.0  Bot_BotActor\n",
      "7        repo     2.0         Human\n"
     ]
    }
   ],
   "source": [
    "import pandas as pd\n",
    "\n",
    "# Load the dataset with event counts and acc_type\n",
    "df = pd.read_csv(\"final_event_counts.csv\")\n",
    "\n",
    "# Define Bot and Human categories\n",
    "df[\"acc_type\"] = df[\"acc_type\"].replace({\"Bot Actor\": \"Bot_BotActor\"})  # Standardize naming\n",
    "df[\"acc_type\"] = df[\"acc_type\"].replace({\"Bot\": \"Bot_BotActor\", \"Human\": \"Human\"})  \n",
    "\n",
    "# List of event groups (ensure they exist in df)\n",
    "event_groups = [\"PR\", \"commit\", \"issue\", \"repo\"]\n",
    "\n",
    "# Compute median values for each event group\n",
    "medians = []\n",
    "for group in event_groups:\n",
    "    bot_median = df[df[\"acc_type\"] == \"Bot_BotActor\"][group].median()\n",
    "    human_median = df[df[\"acc_type\"] == \"Human\"][group].median()\n",
    "    \n",
    "    # Append results to the list\n",
    "    medians.append({\"event_group\": group, \"median\": bot_median, \"acc_type\": \"Bot_BotActor\"})\n",
    "    medians.append({\"event_group\": group, \"median\": human_median, \"acc_type\": \"Human\"})\n",
    "\n",
    "# Convert list to DataFrame\n",
    "df_medians = pd.DataFrame(medians)\n",
    "\n",
    "# Save the result\n",
    "df_medians.to_csv(\"median_event_counts.csv\", index=False)\n",
    "\n",
    "# Display result\n",
    "print(df_medians)\n"
   ]
  },
  {
   "cell_type": "markdown",
   "id": "8eafa8a6-3c98-41db-bebd-64adc634f77f",
   "metadata": {},
   "source": [
    "### Question 2 (b)\n",
    "\n",
    "Plot a heatmap of the DataFrame using seaborn - \n",
    "1. First convert the dataframe to the required format using pivot, example is given below\n",
    "2. plot using seaborn - sns.heatmap(df_medians, annot=True, vmin=0, vmax=300, cmap=\"crest\"). More details: https://seaborn.pydata.org/generated/seaborn.heatmap.html)"
   ]
  },
  {
   "cell_type": "markdown",
   "id": "2bd13bb8-628d-444e-b4a2-9887378a9cef",
   "metadata": {},
   "source": [
    "#### pd.pivot example:\n",
    "<a id='pivot_example'></a>"
   ]
  },
  {
   "cell_type": "code",
   "execution_count": 10,
   "id": "3fbf8d1e-86ba-4b86-8bfc-d1bba83c63a8",
   "metadata": {},
   "outputs": [
    {
     "data": {
      "text/html": [
       "<div>\n",
       "<style scoped>\n",
       "    .dataframe tbody tr th:only-of-type {\n",
       "        vertical-align: middle;\n",
       "    }\n",
       "\n",
       "    .dataframe tbody tr th {\n",
       "        vertical-align: top;\n",
       "    }\n",
       "\n",
       "    .dataframe thead th {\n",
       "        text-align: right;\n",
       "    }\n",
       "</style>\n",
       "<table border=\"1\" class=\"dataframe\">\n",
       "  <thead>\n",
       "    <tr style=\"text-align: right;\">\n",
       "      <th></th>\n",
       "      <th>event_group</th>\n",
       "      <th>median</th>\n",
       "      <th>acc_type</th>\n",
       "    </tr>\n",
       "  </thead>\n",
       "  <tbody>\n",
       "    <tr>\n",
       "      <th>0</th>\n",
       "      <td>event_group1</td>\n",
       "      <td>val1</td>\n",
       "      <td>Bot</td>\n",
       "    </tr>\n",
       "    <tr>\n",
       "      <th>1</th>\n",
       "      <td>event_group1</td>\n",
       "      <td>val2</td>\n",
       "      <td>Human</td>\n",
       "    </tr>\n",
       "    <tr>\n",
       "      <th>2</th>\n",
       "      <td>event_group2</td>\n",
       "      <td>val3</td>\n",
       "      <td>Bot</td>\n",
       "    </tr>\n",
       "    <tr>\n",
       "      <th>3</th>\n",
       "      <td>event_group2</td>\n",
       "      <td>val4</td>\n",
       "      <td>Human</td>\n",
       "    </tr>\n",
       "    <tr>\n",
       "      <th>4</th>\n",
       "      <td>event_group3</td>\n",
       "      <td>val5</td>\n",
       "      <td>Bot</td>\n",
       "    </tr>\n",
       "    <tr>\n",
       "      <th>5</th>\n",
       "      <td>event_group3</td>\n",
       "      <td>val6</td>\n",
       "      <td>Human</td>\n",
       "    </tr>\n",
       "    <tr>\n",
       "      <th>6</th>\n",
       "      <td>event_group4</td>\n",
       "      <td>val7</td>\n",
       "      <td>Bot</td>\n",
       "    </tr>\n",
       "    <tr>\n",
       "      <th>7</th>\n",
       "      <td>event_group5</td>\n",
       "      <td>val8</td>\n",
       "      <td>Human</td>\n",
       "    </tr>\n",
       "  </tbody>\n",
       "</table>\n",
       "</div>"
      ],
      "text/plain": [
       "    event_group median acc_type\n",
       "0  event_group1   val1      Bot\n",
       "1  event_group1   val2    Human\n",
       "2  event_group2   val3      Bot\n",
       "3  event_group2   val4    Human\n",
       "4  event_group3   val5      Bot\n",
       "5  event_group3   val6    Human\n",
       "6  event_group4   val7      Bot\n",
       "7  event_group5   val8    Human"
      ]
     },
     "execution_count": 10,
     "metadata": {},
     "output_type": "execute_result"
    }
   ],
   "source": [
    "# Main DataFrame\n",
    "medians = [{'event_group': 'event_group1', 'median': 'val1', 'acc_type': 'Bot'}, \n",
    "           {'event_group': 'event_group1', 'median': 'val2', 'acc_type': 'Human'},\n",
    "           {'event_group': 'event_group2', 'median': 'val3', 'acc_type': 'Bot'},\n",
    "           {'event_group': 'event_group2', 'median': 'val4', 'acc_type': 'Human'},\n",
    "           {'event_group': 'event_group3', 'median': 'val5', 'acc_type': 'Bot'},\n",
    "           {'event_group': 'event_group3', 'median': 'val6', 'acc_type': 'Human'},\n",
    "           {'event_group': 'event_group4', 'median': 'val7', 'acc_type': 'Bot'},\n",
    "           {'event_group': 'event_group5', 'median': 'val8', 'acc_type': 'Human'}]\n",
    "df_medians = pd.DataFrame.from_dict(medians)\n",
    "df_medians"
   ]
  },
  {
   "cell_type": "code",
   "execution_count": 11,
   "id": "816f28a7-c281-4808-b987-5d74a1c08271",
   "metadata": {},
   "outputs": [
    {
     "data": {
      "text/html": [
       "<div>\n",
       "<style scoped>\n",
       "    .dataframe tbody tr th:only-of-type {\n",
       "        vertical-align: middle;\n",
       "    }\n",
       "\n",
       "    .dataframe tbody tr th {\n",
       "        vertical-align: top;\n",
       "    }\n",
       "\n",
       "    .dataframe thead th {\n",
       "        text-align: right;\n",
       "    }\n",
       "</style>\n",
       "<table border=\"1\" class=\"dataframe\">\n",
       "  <thead>\n",
       "    <tr style=\"text-align: right;\">\n",
       "      <th>event_group</th>\n",
       "      <th>event_group1</th>\n",
       "      <th>event_group2</th>\n",
       "      <th>event_group3</th>\n",
       "      <th>event_group4</th>\n",
       "      <th>event_group5</th>\n",
       "    </tr>\n",
       "    <tr>\n",
       "      <th>acc_type</th>\n",
       "      <th></th>\n",
       "      <th></th>\n",
       "      <th></th>\n",
       "      <th></th>\n",
       "      <th></th>\n",
       "    </tr>\n",
       "  </thead>\n",
       "  <tbody>\n",
       "    <tr>\n",
       "      <th>Bot</th>\n",
       "      <td>val1</td>\n",
       "      <td>val3</td>\n",
       "      <td>val5</td>\n",
       "      <td>val7</td>\n",
       "      <td>NaN</td>\n",
       "    </tr>\n",
       "    <tr>\n",
       "      <th>Human</th>\n",
       "      <td>val2</td>\n",
       "      <td>val4</td>\n",
       "      <td>val6</td>\n",
       "      <td>NaN</td>\n",
       "      <td>val8</td>\n",
       "    </tr>\n",
       "  </tbody>\n",
       "</table>\n",
       "</div>"
      ],
      "text/plain": [
       "event_group event_group1 event_group2 event_group3 event_group4 event_group5\n",
       "acc_type                                                                    \n",
       "Bot                 val1         val3         val5         val7          NaN\n",
       "Human               val2         val4         val6          NaN         val8"
      ]
     },
     "execution_count": 11,
     "metadata": {},
     "output_type": "execute_result"
    }
   ],
   "source": [
    "# pivot the main DataFrame\n",
    "df_medians.pivot(index='acc_type', columns='event_group', values='median')#.reset_index().rename_axis(None,axis=1)"
   ]
  },
  {
   "cell_type": "code",
   "execution_count": 12,
   "id": "24478c26-f367-4589-85dc-3cfa22614f3e",
   "metadata": {},
   "outputs": [
    {
     "data": {
      "image/png": "[encoded data removed]",
      "text/plain": [
       "<Figure size 800x500 with 2 Axes>"
      ]
     },
     "metadata": {},
     "output_type": "display_data"
    }
   ],
   "source": [
    "import pandas as pd\n",
    "import seaborn as sns\n",
    "import matplotlib.pyplot as plt\n",
    "\n",
    "# Load the median event counts DataFrame\n",
    "df_medians = pd.read_csv(\"median_event_counts.csv\")\n",
    "\n",
    "# Pivot the DataFrame to get event groups as columns and acc_type as rows\n",
    "df_pivot = df_medians.pivot(index=\"acc_type\", columns=\"event_group\", values=\"median\")\n",
    "\n",
    "# Plot the heatmap using seaborn\n",
    "plt.figure(figsize=(8, 5))\n",
    "sns.heatmap(df_pivot, annot=True, vmin=0, vmax=300, cmap=\"crest\")\n",
    "\n",
    "# Title and labels\n",
    "plt.title(\"Median Event Counts per Group for Bot_BotActor & Human\")\n",
    "plt.xlabel(\"Event Group\")\n",
    "plt.ylabel(\"Contributor Type\")\n",
    "\n",
    "# Show the plot\n",
    "plt.show()\n"
   ]
  },
  {
   "cell_type": "markdown",
   "id": "19d518fd-10f0-4f91-a38e-595fe89f36a2",
   "metadata": {},
   "source": [
    "#### What is the difference that you observe between Bots+Bot actors and Humans?"
   ]
  },
  {
   "cell_type": "code",
   "execution_count": null,
   "id": "df3a1600-7110-4866-9de3-42b85b407722",
   "metadata": {},
   "outputs": [],
   "source": [
    "Bots and bot actors handle repetitive and automated tasks, especially in commits and pull requests, where they manage CI/CD automation, dependency updates, and code formatting. They are highly active in commit events due to automated merges and updates and frequently participate in pull requests for reviewing and merging code, but they engage less in issue discussions and repository management. Humans, on the other hand, contribute more diverse and meaningful activities, such as discussing issues, reviewing code, and managing repository-level tasks like creating forks and releases. While bots are event-driven—triggered by new PRs, scheduled tasks, or CI/CD pipelines—humans act based on need, whether fixing bugs, reviewing code, or discussing new features. Essentially, bots ensure efficiency by handling routine tasks, while humans focus on decision-making and collaboration, shaping the quality and direction of the project"
   ]
  },
  {
   "cell_type": "markdown",
   "id": "1bbc377f-79bb-4b52-9bba-fe7cc4a804ab",
   "metadata": {},
   "source": [
    "#### What is the differnce that you observe between Event groups?"
   ]
  },
  {
   "cell_type": "code",
   "execution_count": null,
   "id": "064cc1a2-c910-47a8-b327-deba02a815a1",
   "metadata": {},
   "outputs": [],
   "source": [
    "Bots are most active in commits and pull requests, handling automated tasks like CI/CD processes, dependency updates, and merges, while humans contribute PRs and commits less frequently but with more meaningful changes. Issue discussions and repository events are largely driven by humans, as bots rarely participate beyond automated labeling or release tagging. In commit events, bots focus on automation, while humans work on feature development and bug fixes. Pull requests see bots handling code formatting and test checks, whereas humans provide detailed reviews and discussions. Similarly, bots automate repository management tasks like tagging releases, while humans manually create forks and manage members, playing a more hands-on role in shaping the project."
   ]
  },
  {
   "cell_type": "markdown",
   "id": "5e941d75-0450-46f4-9345-d7f109ff9b92",
   "metadata": {},
   "source": [
    "#### What is the difference that you observe between Bots+Bot actors and Humans and Event groups all considering at the same time?"
   ]
  },
  {
   "cell_type": "code",
   "execution_count": null,
   "id": "7145cbf9-e9a6-4798-aa23-54428bc7f73b",
   "metadata": {},
   "outputs": [],
   "source": [
    "Bots and bot actors are highly active in commits and pull requests, where they handle automated tasks like CI/CD, dependency updates, and code formatting, while humans contribute less frequently but focus on meaningful changes like bug fixes and feature development. In issue-related events, humans dominate, engaging in discussions, reporting bugs, and reviewing code, whereas bots only perform minor automation like labeling issues. Repository events show a mix of both, with bots managing automated releases and tagging versions, while humans manually create forks and manage repository settings. Overall, bots thrive in automation-heavy tasks, ensuring efficiency, while humans contribute critical decision-making and collaboration across different event groups"
   ]
  },
  {
   "cell_type": "markdown",
   "id": "5c402f2c-2628-4957-ac76-e48bb85564cf",
   "metadata": {},
   "source": [
    "### Question 3"
   ]
  },
  {
   "cell_type": "markdown",
   "id": "b7fd623c-4bc5-4cef-9649-fb8cdd41e981",
   "metadata": {},
   "source": [
    "#### Create boxen plots to visualise the distribution of number of events in each event group. \n",
    "#### For more information you can visit - https://seaborn.pydata.org/generated/seaborn.boxenplot.html#seaborn.boxenplot \n",
    "#### You should highlight the data points that correspond to bots using a stripplot in seaborn. https://seaborn.pydata.org/tutorial/categorical.html#categorical-tutorial  \n",
    "#### Interpret the results of the visualisation."
   ]
  },
  {
   "cell_type": "code",
   "execution_count": 23,
   "id": "21a499ac-e0c7-4b0d-9f90-78b704a13ef2",
   "metadata": {},
   "outputs": [
    {
     "name": "stderr",
     "output_type": "stream",
     "text": [
      "/tmp/ipykernel_7675/1147498231.py:15: FutureWarning: \n",
      "\n",
      "Passing `palette` without assigning `hue` is deprecated and will be removed in v0.14.0. Assign the `x` variable to `hue` and set `legend=False` for the same effect.\n",
      "\n",
      "  sns.boxenplot(x=\"acc_type\", y=\"PR\", data=df, palette=\"pastel\")\n"
     ]
    },
    {
     "data": {
      "image/png": "[encoded data removed]",
      "text/plain": [
       "<Figure size 800x600 with 1 Axes>"
      ]
     },
     "metadata": {},
     "output_type": "display_data"
    }
   ],
   "source": [
    "import pandas as pd\n",
    "import seaborn as sns\n",
    "import matplotlib.pyplot as plt\n",
    "\n",
    "# Load the dataset containing event counts and acc_type\n",
    "df = pd.read_csv(\"final_event_counts.csv\")\n",
    "\n",
    "# Ensure acc_type column uses consistent labels\n",
    "df[\"acc_type\"] = df[\"acc_type\"].replace({\"Bot\": \"Bot_BotActor\"})  # Standardizing the labels if needed\n",
    "\n",
    "# Define the figure size\n",
    "plt.figure(figsize=(8, 6))\n",
    "\n",
    "# Create the boxen plot for Pull Request (PR) events\n",
    "sns.boxenplot(x=\"acc_type\", y=\"PR\", data=df, palette=\"pastel\")\n",
    "\n",
    "# Fix: Ensure all acc_type values are covered in the palette\n",
    "palette = {\"Bot_BotActor\": \"red\", \"Human\": \"blue\"}\n",
    "\n",
    "# Overlay stripplot to highlight bot-related data points\n",
    "sns.stripplot(x=\"acc_type\", y=\"PR\", data=df, hue=\"acc_type\", \n",
    "              jitter=True, dodge=True, marker=\"o\", alpha=0.7, palette=palette)\n",
    "\n",
    "# Labels and title\n",
    "plt.xlabel(\"Contributor Type\")\n",
    "plt.ylabel(\"Number of PR Events\")\n",
    "plt.title(\"Distribution of Pull Request Events by Contributor Type\")\n",
    "plt.legend(title=\"Contributor Type\")\n",
    "\n",
    "# Show the plot\n",
    "plt.show()\n"
   ]
  },
  {
   "cell_type": "code",
   "execution_count": 25,
   "id": "330c9d73-28a9-4d83-9728-cf595374235b",
   "metadata": {},
   "outputs": [
    {
     "name": "stderr",
     "output_type": "stream",
     "text": [
      "/tmp/ipykernel_7675/1506573722.py:27: FutureWarning: \n",
      "\n",
      "Passing `palette` without assigning `hue` is deprecated and will be removed in v0.14.0. Assign the `x` variable to `hue` and set `legend=False` for the same effect.\n",
      "\n",
      "  sns.boxenplot(x=\"acc_type\", y=event, data=df, palette=\"pastel\")\n"
     ]
    },
    {
     "data": {
      "image/png": "[encoded data removed]",
      "text/plain": [
       "<Figure size 800x600 with 1 Axes>"
      ]
     },
     "metadata": {},
     "output_type": "display_data"
    },
    {
     "name": "stderr",
     "output_type": "stream",
     "text": [
      "/tmp/ipykernel_7675/1506573722.py:27: FutureWarning: \n",
      "\n",
      "Passing `palette` without assigning `hue` is deprecated and will be removed in v0.14.0. Assign the `x` variable to `hue` and set `legend=False` for the same effect.\n",
      "\n",
      "  sns.boxenplot(x=\"acc_type\", y=event, data=df, palette=\"pastel\")\n"
     ]
    },
    {
     "data": {
      "image/png": "[encoded data removed]",
      "text/plain": [
       "<Figure size 800x600 with 1 Axes>"
      ]
     },
     "metadata": {},
     "output_type": "display_data"
    },
    {
     "name": "stderr",
     "output_type": "stream",
     "text": [
      "/tmp/ipykernel_7675/1506573722.py:27: FutureWarning: \n",
      "\n",
      "Passing `palette` without assigning `hue` is deprecated and will be removed in v0.14.0. Assign the `x` variable to `hue` and set `legend=False` for the same effect.\n",
      "\n",
      "  sns.boxenplot(x=\"acc_type\", y=event, data=df, palette=\"pastel\")\n"
     ]
    },
    {
     "data": {
      "image/png": "[encoded data removed]",
      "text/plain": [
       "<Figure size 800x600 with 1 Axes>"
      ]
     },
     "metadata": {},
     "output_type": "display_data"
    }
   ],
   "source": [
    "import pandas as pd\n",
    "import seaborn as sns\n",
    "import matplotlib.pyplot as plt\n",
    "\n",
    "# Load the dataset containing event counts and acc_type\n",
    "df = pd.read_csv(\"final_event_counts.csv\")\n",
    "\n",
    "# Ensure acc_type column uses consistent labels\n",
    "df[\"acc_type\"] = df[\"acc_type\"].replace({\"Bot\": \"Bot_BotActor\"})  # Standardizing the labels if needed\n",
    "\n",
    "# Define event types to plot\n",
    "event_types = [\"issue\", \"commit\", \"repo\"]\n",
    "titles = {\n",
    "    \"issue\": \"Distribution of Issue Events by Contributor Type\",\n",
    "    \"commit\": \"Distribution of Commit Events by Contributor Type\",\n",
    "    \"repo\": \"Distribution of Repository Events by Contributor Type\"\n",
    "}\n",
    "\n",
    "# Define a consistent color palette\n",
    "palette = {\"Bot_BotActor\": \"red\", \"Human\": \"blue\"}\n",
    "\n",
    "# Loop through each event type and create plots\n",
    "for event in event_types:\n",
    "    plt.figure(figsize=(8, 6))\n",
    "\n",
    "    # Create the boxen plot\n",
    "    sns.boxenplot(x=\"acc_type\", y=event, data=df, palette=\"pastel\")\n",
    "\n",
    "    # Overlay stripplot to highlight bot-related data points\n",
    "    sns.stripplot(x=\"acc_type\", y=event, data=df, hue=\"acc_type\", \n",
    "                  jitter=True, dodge=True, marker=\"o\", alpha=0.7, palette=palette)\n",
    "\n",
    "    # Labels and title\n",
    "    plt.xlabel(\"Contributor Type\")\n",
    "    plt.ylabel(f\"Number of {event.capitalize()} Events\")\n",
    "    plt.title(titles[event])\n",
    "    plt.legend(title=\"Contributor Type\")\n",
    "\n",
    "    # Show the plot\n",
    "    plt.show()\n"
   ]
  },
  {
   "cell_type": "markdown",
   "id": "a663a24f-ebbd-4707-a8e2-c4a72a9451a7",
   "metadata": {},
   "source": [
    "### Question 4.1"
   ]
  },
  {
   "cell_type": "markdown",
   "id": "ea2541bc-5f3a-4ce3-bfb1-21e16104b4c5",
   "metadata": {},
   "source": [
    "#### Statistical identify whether number of events in each event group is normally distributed or not.\n",
    "#### Null hypothesis - $H_0$: Sample comes from the data that has normal distribution.\n",
    "#### Use Shapiro-Wilk test for this purpose. Use the p-value with a threshold of 0.05 to determine whether $H_0$ can be rejected with statistical significance or not. \n",
    "\n",
    "#### Use shapiro from scipy.stats to perform this test (https://docs.scipy.org/doc/scipy/reference/generated/scipy.stats.shapiro.html)"
   ]
  },
  {
   "cell_type": "code",
   "execution_count": 19,
   "id": "d4273e9c-f29f-4b46-ab75-3ceb16a2aae6",
   "metadata": {},
   "outputs": [
    {
     "name": "stdout",
     "output_type": "stream",
     "text": [
      "Shapiro-Wilk Test for PR:\n",
      "  - Test Statistic: 0.0704\n",
      "  - p-value: 0.0000\n",
      "  - Conclusion: Reject H_0 (Data is NOT normally distributed)\n",
      "\n",
      "Shapiro-Wilk Test for commit:\n",
      "  - Test Statistic: 0.0016\n",
      "  - p-value: 0.0000\n",
      "  - Conclusion: Reject H_0 (Data is NOT normally distributed)\n",
      "\n",
      "Shapiro-Wilk Test for issue:\n",
      "  - Test Statistic: 0.0345\n",
      "  - p-value: 0.0000\n",
      "  - Conclusion: Reject H_0 (Data is NOT normally distributed)\n",
      "\n",
      "Shapiro-Wilk Test for repo:\n",
      "  - Test Statistic: 0.0166\n",
      "  - p-value: 0.0000\n",
      "  - Conclusion: Reject H_0 (Data is NOT normally distributed)\n",
      "\n",
      "        Shapiro-Wilk Statistic        p-value\n",
      "PR                    0.070355  1.608880e-136\n",
      "commit                0.001639  1.245403e-138\n",
      "issue                 0.034467  1.222277e-137\n",
      "repo                  0.016580  3.492043e-138\n"
     ]
    },
    {
     "name": "stderr",
     "output_type": "stream",
     "text": [
      "/home/oscar/Desktop/Software_Evolution-TP_bots/env/lib/python3.12/site-packages/scipy/stats/_axis_nan_policy.py:573: UserWarning: scipy.stats.shapiro: For N > 5000, computed p-value may not be accurate. Current N is 21957.\n",
      "  res = hypotest_fun_out(*samples, **kwds)\n"
     ]
    }
   ],
   "source": [
    "import pandas as pd\n",
    "from scipy.stats import shapiro\n",
    "\n",
    "# Load the dataset containing event counts\n",
    "df = pd.read_csv(\"final_event_counts.csv\")\n",
    "\n",
    "# Define event groups to test\n",
    "event_groups = [\"PR\", \"commit\", \"issue\", \"repo\"]\n",
    "\n",
    "# Perform the Shapiro-Wilk test for each event group\n",
    "normality_results = {}\n",
    "for group in event_groups:\n",
    "    stat, p_value = shapiro(df[group])  # Perform the test\n",
    "    normality_results[group] = {\"Shapiro-Wilk Statistic\": stat, \"p-value\": p_value}\n",
    "\n",
    "    # Print results\n",
    "    print(f\"Shapiro-Wilk Test for {group}:\")\n",
    "    print(f\"  - Test Statistic: {stat:.4f}\")\n",
    "    print(f\"  - p-value: {p_value:.4f}\")\n",
    "\n",
    "    # Interpretation\n",
    "    if p_value < 0.05:\n",
    "        print(f\"  - Conclusion: Reject H_0 (Data is NOT normally distributed)\\n\")\n",
    "    else:\n",
    "        print(f\"  - Conclusion: Fail to reject H_0 (Data is normally distributed)\\n\")\n",
    "\n",
    "# Convert results to a DataFrame for easy visualization\n",
    "df_shapiro = pd.DataFrame.from_dict(normality_results, orient=\"index\")\n",
    "df_shapiro.to_csv(\"shapiro_results.csv\", index=True)\n",
    "\n",
    "# Display the DataFrame\n",
    "print(df_shapiro)\n"
   ]
  },
  {
   "cell_type": "markdown",
   "id": "e7ed78ce-6901-4ddb-a219-d5a8c4e26886",
   "metadata": {},
   "source": [
    "### Question 4.2\n",
    "#### Determine if there is any statistical diﬀerence in number of events between the identified event groups. Perform this test on all pairs of event groups. \n",
    "#### Null hypothesis - $H_0$: Any two event group come from the same population.\n",
    "#### If $H_0$ is rejected in Shapiro-Wilk test (at least for one of the two event groups considered for test), use the Mann-Whitney U statistical test for this purpose. If $H_0$ is not rejected in Shapiro-Wilk test, use the independent t-test for this purpose.  \n",
    "#### In any case, use the p-value with a threshold of 0.01 to determine whether $H_0$ can be rejected with statistical significance. \n",
    "\n",
    "#### Use mannwhitneyu from scipy.stats to perform Mann-Whitney U test (https://docs.scipy.org/doc/scipy/reference/generated/scipy.stats.mannwhitneyu.html) \n",
    "#### or \n",
    "#### ttest_ind from scipy.stats to perform independent t-test https://docs.scipy.org/doc/scipy/reference/generated/scipy.stats.ttest_ind.html."
   ]
  },
  {
   "cell_type": "markdown",
   "id": "3d3fe255-f6a8-4c49-92aa-1859c98d51c1",
   "metadata": {},
   "source": [
    "#### More information:\n",
    "\n",
    "You can pass the following arguments to mannwhitneyu from scipy.stats - (method='exact', nan_policy='omit'). For ttest_ind you can use - (nan_policy='omit')"
   ]
  },
  {
   "cell_type": "code",
   "execution_count": 20,
   "id": "7e7c952f-15a8-4634-b786-90ff1e8f20da",
   "metadata": {},
   "outputs": [
    {
     "name": "stderr",
     "output_type": "stream",
     "text": [
      "/home/oscar/Desktop/Software_Evolution-TP_bots/env/lib/python3.12/site-packages/scipy/stats/_axis_nan_policy.py:573: UserWarning: scipy.stats.shapiro: For N > 5000, computed p-value may not be accurate. Current N is 21957.\n",
      "  res = hypotest_fun_out(*samples, **kwds)\n"
     ]
    },
    {
     "name": "stdout",
     "output_type": "stream",
     "text": [
      "  Group 1 Group 2       Test Used  Test Statistic        p-value  \\\n",
      "0      PR  commit  Mann-Whitney U     257952232.5  1.342037e-176   \n",
      "1      PR   issue  Mann-Whitney U     187810967.0   0.000000e+00   \n",
      "2      PR    repo  Mann-Whitney U     100347184.5   0.000000e+00   \n",
      "3  commit   issue  Mann-Whitney U     170803283.0   0.000000e+00   \n",
      "4  commit    repo  Mann-Whitney U      77987888.0   0.000000e+00   \n",
      "5   issue    repo  Mann-Whitney U     172037096.5   0.000000e+00   \n",
      "\n",
      "                            Conclusion  \n",
      "0  Reject H_0 (Significant Difference)  \n",
      "1  Reject H_0 (Significant Difference)  \n",
      "2  Reject H_0 (Significant Difference)  \n",
      "3  Reject H_0 (Significant Difference)  \n",
      "4  Reject H_0 (Significant Difference)  \n",
      "5  Reject H_0 (Significant Difference)  \n"
     ]
    }
   ],
   "source": [
    "import pandas as pd\n",
    "from scipy.stats import shapiro, mannwhitneyu, ttest_ind\n",
    "from itertools import combinations\n",
    "\n",
    "# Load the dataset containing event counts\n",
    "df = pd.read_csv(\"final_event_counts.csv\")\n",
    "\n",
    "# Define event groups\n",
    "event_groups = [\"PR\", \"commit\", \"issue\", \"repo\"]\n",
    "\n",
    "# Perform the Shapiro-Wilk normality test for each event group\n",
    "normality_results = {}\n",
    "for group in event_groups:\n",
    "    stat, p_value = shapiro(df[group])\n",
    "    normality_results[group] = (stat, p_value)\n",
    "\n",
    "# Function to determine if data is normally distributed\n",
    "def is_normal(group):\n",
    "    return normality_results[group][1] >= 0.05  # Fail to reject H0 → normal distribution\n",
    "\n",
    "# Perform statistical comparisons for all pairs of event groups\n",
    "test_results = []\n",
    "for group1, group2 in combinations(event_groups, 2):\n",
    "    # Check normality for both groups\n",
    "    normal1 = is_normal(group1)\n",
    "    normal2 = is_normal(group2)\n",
    "\n",
    "    # Choose statistical test based on normality\n",
    "    if normal1 and normal2:\n",
    "        stat, p_value = ttest_ind(df[group1], df[group2])  # Use t-test\n",
    "        test_type = \"t-test\"\n",
    "    else:\n",
    "        stat, p_value = mannwhitneyu(df[group1], df[group2], alternative=\"two-sided\")  # Use Mann-Whitney U\n",
    "        test_type = \"Mann-Whitney U\"\n",
    "\n",
    "    # Interpret results\n",
    "    significance = \"Reject H_0 (Significant Difference)\" if p_value < 0.01 else \"Fail to Reject H_0 (No Significant Difference)\"\n",
    "\n",
    "    # Store results\n",
    "    test_results.append({\n",
    "        \"Group 1\": group1,\n",
    "        \"Group 2\": group2,\n",
    "        \"Test Used\": test_type,\n",
    "        \"Test Statistic\": stat,\n",
    "        \"p-value\": p_value,\n",
    "        \"Conclusion\": significance\n",
    "    })\n",
    "\n",
    "# Convert results into a DataFrame for better readability\n",
    "df_test_results = pd.DataFrame(test_results)\n",
    "\n",
    "# Save results to CSV\n",
    "df_test_results.to_csv(\"event_group_comparisons.csv\", index=False)\n",
    "\n",
    "# Display results\n",
    "print(df_test_results)\n"
   ]
  },
  {
   "cell_type": "markdown",
   "id": "f443dbbc-a8f1-4281-aadb-8ec8f9c792da",
   "metadata": {},
   "source": [
    "### Question 4.3\n",
    "#### Each time you reject the null hypothesis $H_0$, quantify the effect size of the diﬀerence between the groups using cliﬀ’s delta ($\\delta$). \n",
    "#### To calculate cliﬀ’s delta, you can pass the list of values to cliﬀ delta.py file given in the repository. E.g., cliffsDelta.cliffsDelta(list of values, list of values). This will return the effect size.\n",
    "#### Refer to the table given in the TP document and mention your interpretation (negligible, small, medium, large)."
   ]
  },
  {
   "cell_type": "code",
   "execution_count": 22,
   "id": "c19a6054-933f-425b-971e-d54a429c901d",
   "metadata": {},
   "outputs": [
    {
     "name": "stdout",
     "output_type": "stream",
     "text": [
      "  Group 1 Group 2  Cliff’s Delta Effect Size\n",
      "0      PR  commit       0.070097  Negligible\n",
      "1      PR   issue      -0.220879       Small\n",
      "2      PR    repo      -0.583717       Large\n",
      "3  commit   issue      -0.291434       Small\n",
      "4  commit    repo      -0.676473       Large\n",
      "5   issue    repo      -0.286316       Small\n"
     ]
    }
   ],
   "source": [
    "import pandas as pd\n",
    "import cliffsDelta  # Ensure cliff_delta.py is available in the repository\n",
    "\n",
    "# Load statistical test results\n",
    "df_test_results = pd.read_csv(\"event_group_comparisons.csv\")\n",
    "\n",
    "# Load the event counts dataset\n",
    "df_events = pd.read_csv(\"final_event_counts.csv\")\n",
    "\n",
    "# Interpretation table for Cliff's Delta\n",
    "cliffs_delta_interpretation = {\n",
    "    (0, 0.147): \"Negligible\",\n",
    "    (0.147, 0.33): \"Small\",\n",
    "    (0.33, 0.474): \"Medium\",\n",
    "    (0.474, 1): \"Large\"\n",
    "}\n",
    "\n",
    "# Function to interpret Cliff’s Delta effect size\n",
    "def interpret_cliffs_delta(delta):\n",
    "    for (low, high), label in cliffs_delta_interpretation.items():\n",
    "        if low <= abs(delta) < high:\n",
    "            return label\n",
    "    return \"Unknown\"\n",
    "\n",
    "# Compute Cliff’s Delta for pairs where H_0 was rejected\n",
    "cliffs_results = []\n",
    "for _, row in df_test_results.iterrows():\n",
    "    if \"Reject H_0\" in row[\"Conclusion\"]:  # Only for significant differences\n",
    "        group1, group2 = row[\"Group 1\"], row[\"Group 2\"]\n",
    "        \n",
    "        # Extract values for the two groups\n",
    "        values1 = df_events[group1].tolist()\n",
    "        values2 = df_events[group2].tolist()\n",
    "        \n",
    "        # Compute Cliff's Delta (Fix: Do not unpack)\n",
    "        delta = cliffsDelta.cliffsDelta(values1, values2)\n",
    "        \n",
    "        # Interpret effect size\n",
    "        effect_size_label = interpret_cliffs_delta(delta)\n",
    "        \n",
    "        # Store results\n",
    "        cliffs_results.append({\n",
    "            \"Group 1\": group1,\n",
    "            \"Group 2\": group2,\n",
    "            \"Cliff’s Delta\": delta,\n",
    "            \"Effect Size\": effect_size_label\n",
    "        })\n",
    "\n",
    "# Convert results into a DataFrame\n",
    "df_cliffs_results = pd.DataFrame(cliffs_results)\n",
    "\n",
    "# Save to CSV\n",
    "df_cliffs_results.to_csv(\"cliffs_delta_results.csv\", index=False)\n",
    "\n",
    "# Display results\n",
    "print(df_cliffs_results)\n"
   ]
  }
 ],
 "metadata": {
  "kernelspec": {
   "display_name": "env",
   "language": "python",
   "name": "python3"
  },
  "language_info": {
   "codemirror_mode": {
    "name": "ipython",
    "version": 3
   },
   "file_extension": ".py",
   "mimetype": "text/x-python",
   "name": "python",
   "nbconvert_exporter": "python",
   "pygments_lexer": "ipython3",
   "version": "3.12.3"
  }
 },
 "nbformat": 4,
 "nbformat_minor": 5
}
